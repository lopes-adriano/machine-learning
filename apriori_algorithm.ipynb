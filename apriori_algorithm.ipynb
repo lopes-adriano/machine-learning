{
  "cells": [
    {
      "cell_type": "markdown",
      "metadata": {
        "id": "view-in-github",
        "colab_type": "text"
      },
      "source": [
        "<a href=\"https://colab.research.google.com/github/lopes-adriano/machine-learning/blob/main/apriori_algorithm.ipynb\" target=\"_parent\"><img src=\"https://colab.research.google.com/assets/colab-badge.svg\" alt=\"Open In Colab\"/></a>"
      ]
    },
    {
      "cell_type": "markdown",
      "metadata": {
        "id": "z5jlvMyAd-jW"
      },
      "source": [
        "# Algoritmos de ML - Aprendizado não supervisionado\n",
        "\n",
        "Aluno: Adriano Ferreira Lopes\n",
        "\n",
        "Matrícula: 201802671"
      ]
    },
    {
      "cell_type": "markdown",
      "metadata": {
        "id": "1_pb6J2zeOjA"
      },
      "source": [
        "## Apriori Algorithm"
      ]
    },
    {
      "cell_type": "markdown",
      "metadata": {
        "id": "9-ow1GUeehW_"
      },
      "source": [
        "### Introdução"
      ]
    },
    {
      "cell_type": "markdown",
      "metadata": {
        "id": "lUtOjw38ektE"
      },
      "source": [
        "O Apriori é um algoritmo de mineração de regras de associação usado para descobrir padrões frequentes em conjuntos de dados. Ele opera identificando itens frequentes em transações e construindo regras de associação que descrevem a relação entre diferentes itens. A abordagem chave do Apriori é a geração iterativa de conjuntos de itens frequentes, explorando o princípio de que um conjunto de itens frequente deve conter todos os seus subconjuntos frequentes."
      ]
    },
    {
      "cell_type": "markdown",
      "metadata": {
        "id": "uPIlTIase4Gg"
      },
      "source": [
        "### Aplicações"
      ]
    },
    {
      "cell_type": "markdown",
      "metadata": {
        "id": "xssLHCLDe56b"
      },
      "source": [
        "- Varejo e Comércio Eletrônico: No setor de varejo, o Apriori é utilizado para análise de cestas de compras, permitindo a recomendação de produtos com base nas associações frequentes entre itens comprados juntos.\n",
        "\n",
        "- Análise de Dados da Web: Em análise de logs da web, o Apriori pode ser aplicado para descobrir padrões de comportamento do usuário, melhorando a personalização de conteúdo.\n",
        "\n",
        "- Saúde e Medicina: Na área de saúde, o Apriori pode ser empregado para identificar associações entre sintomas e condições médicas com base em registros de pacientes."
      ]
    },
    {
      "cell_type": "markdown",
      "metadata": {
        "id": "hVDPta7DfAn1"
      },
      "source": [
        "### Vantagens"
      ]
    },
    {
      "cell_type": "markdown",
      "metadata": {
        "id": "vLJyTU9NfCs9"
      },
      "source": [
        "1. Simplicidade e Interpretabilidade: O Apriori é fácil de compreender e interpretar, tornando-se uma escolha acessível para análise de padrões em dados transacionais.\n",
        "\n",
        "2. Identificação de Relações Entre Itens: Permite a descoberta de relações frequentes entre itens, revelando associações úteis e insights de negócios.\n",
        "\n",
        "3. Adaptabilidade a Dados Variáveis: Pode ser aplicado a diferentes tipos de dados, como transações de compras, registros médicos e padrões de navegação na web."
      ]
    },
    {
      "cell_type": "markdown",
      "metadata": {
        "id": "NdK-HZdlfMWB"
      },
      "source": [
        "### Desvantagens"
      ]
    },
    {
      "cell_type": "markdown",
      "metadata": {
        "id": "WssxpYwVfYs7"
      },
      "source": [
        "1. Custo Computacional Elevado: O Apriori pode ser computacionalmente intensivo, especialmente em conjuntos de dados grandes, devido à necessidade de gerar todos os conjuntos de itens frequentes.\n",
        "\n",
        "2. Manejo de Dados Esparsos: Pode enfrentar desafios em conjuntos de dados com muitos itens, resultando em uma matriz esparsa e aumento nos requisitos de memória.\n",
        "\n",
        "3. Sensibilidade a Parâmetros: O desempenho do Apriori pode depender da configuração de parâmetros, como o suporte mínimo, exigindo ajustes cuidadosos."
      ]
    },
    {
      "cell_type": "markdown",
      "metadata": {
        "id": "83AzTaLIfdNS"
      },
      "source": [
        "### Exemplo de código"
      ]
    },
    {
      "cell_type": "code",
      "source": [
        "# Importando bibliotecas\n",
        "from mlxtend.preprocessing import TransactionEncoder\n",
        "from mlxtend.frequent_patterns import apriori, association_rules\n",
        "import pandas as pd"
      ],
      "metadata": {
        "id": "zZsNWciw1opZ"
      },
      "execution_count": 1,
      "outputs": []
    },
    {
      "cell_type": "code",
      "execution_count": null,
      "metadata": {
        "id": "P6BkypM6eMol"
      },
      "outputs": [],
      "source": [
        "# Dados de exemplo (transações de compra)\n",
        "transactions = [\n",
        "    ['Leite', 'Pão', 'Manteiga', 'Cerveja'],\n",
        "    ['Leite', 'Pão', 'Cerveja', 'Frutas'],\n",
        "    ['Leite', 'Ovos', 'Cerveja', 'Frutas'],\n",
        "    ['Pão', 'Ovos', 'Manteiga', 'Cerveja'],\n",
        "    ['Manteiga', 'Ovos', 'Cerveja', 'Frutas'],\n",
        "    ['Leite', 'Pão', 'Manteiga'],\n",
        "    ['Leite', 'Pão', 'Cerveja'],\n",
        "    ['Pão', 'Ovos', 'Manteiga', 'Frutas'],\n",
        "    ['Leite', 'Pão', 'Ovos', 'Manteiga', 'Cerveja'],\n",
        "    ['Leite', 'Ovos', 'Cerveja', 'Frutas'],\n",
        "    ['Pão', 'Manteiga', 'Cerveja', 'Frutas'],\n",
        "    ['Leite', 'Pão', 'Ovos', 'Manteiga'],\n",
        "]"
      ]
    },
    {
      "cell_type": "code",
      "execution_count": null,
      "metadata": {
        "id": "iqshVY9Nc5vs"
      },
      "outputs": [],
      "source": [
        "# Convertendo os dados para o formato esperado pelo Apriori\n",
        "te = TransactionEncoder()\n",
        "te_ary = te.fit(transactions).transform(transactions)\n",
        "\n",
        "# Criando um DataFrame com os dados transformados\n",
        "df = pd.DataFrame(te_ary, columns=te.columns_)"
      ]
    },
    {
      "cell_type": "code",
      "execution_count": null,
      "metadata": {
        "id": "D-tLnl_2c7s5"
      },
      "outputs": [],
      "source": [
        "# Aplicando o algoritmo Apriori para encontrar itens frequentes\n",
        "frequent_itemsets = apriori(df, min_support=0.4, use_colnames=True)\n",
        "\n",
        "# Gerando regras de associação\n",
        "rules = association_rules(frequent_itemsets, metric=\"confidence\", min_threshold=0.7)"
      ]
    },
    {
      "cell_type": "code",
      "execution_count": 5,
      "metadata": {
        "colab": {
          "base_uri": "https://localhost:8080/"
        },
        "id": "Ham0hlz4c9CV",
        "outputId": "adede026-993c-4c14-ca28-5f74dbdd41e0"
      },
      "outputs": [
        {
          "output_type": "stream",
          "name": "stdout",
          "text": [
            "Itens Frequentes:\n",
            "     support             itemsets\n",
            "0   0.750000            (Cerveja)\n",
            "1   0.500000             (Frutas)\n",
            "2   0.666667              (Leite)\n",
            "3   0.666667           (Manteiga)\n",
            "4   0.583333               (Ovos)\n",
            "5   0.750000                (Pão)\n",
            "6   0.416667    (Frutas, Cerveja)\n",
            "7   0.500000     (Leite, Cerveja)\n",
            "8   0.416667  (Cerveja, Manteiga)\n",
            "9   0.416667      (Cerveja, Ovos)\n",
            "10  0.500000       (Cerveja, Pão)\n",
            "11  0.500000         (Leite, Pão)\n",
            "12  0.416667     (Ovos, Manteiga)\n",
            "13  0.583333      (Pão, Manteiga)\n",
            "\n",
            "Regras de Associação:\n",
            "  antecedents consequents  antecedent support  consequent support   support  \\\n",
            "0    (Frutas)   (Cerveja)            0.500000            0.750000  0.416667   \n",
            "1     (Leite)   (Cerveja)            0.666667            0.750000  0.500000   \n",
            "2      (Ovos)   (Cerveja)            0.583333            0.750000  0.416667   \n",
            "3     (Leite)       (Pão)            0.666667            0.750000  0.500000   \n",
            "4      (Ovos)  (Manteiga)            0.583333            0.666667  0.416667   \n",
            "5       (Pão)  (Manteiga)            0.750000            0.666667  0.583333   \n",
            "6  (Manteiga)       (Pão)            0.666667            0.750000  0.583333   \n",
            "\n",
            "   confidence      lift  leverage  conviction  zhangs_metric  \n",
            "0    0.833333  1.111111  0.041667    1.500000       0.200000  \n",
            "1    0.750000  1.000000  0.000000    1.000000       0.000000  \n",
            "2    0.714286  0.952381 -0.020833    0.875000      -0.107143  \n",
            "3    0.750000  1.000000  0.000000    1.000000       0.000000  \n",
            "4    0.714286  1.071429  0.027778    1.166667       0.160000  \n",
            "5    0.777778  1.166667  0.083333    1.500000       0.571429  \n",
            "6    0.875000  1.166667  0.083333    2.000000       0.428571  \n"
          ]
        },
        {
          "output_type": "stream",
          "name": "stderr",
          "text": [
            "/usr/local/lib/python3.10/dist-packages/ipykernel/ipkernel.py:283: DeprecationWarning: `should_run_async` will not call `transform_cell` automatically in the future. Please pass the result to `transformed_cell` argument and any exception that happen during thetransform in `preprocessing_exc_tuple` in IPython 7.17 and above.\n",
            "  and should_run_async(code)\n"
          ]
        }
      ],
      "source": [
        "# Exibindo itens frequentes e regras de associação\n",
        "print(\"Itens Frequentes:\")\n",
        "print(frequent_itemsets)\n",
        "\n",
        "print(\"\\nRegras de Associação:\")\n",
        "print(rules)"
      ]
    },
    {
      "cell_type": "markdown",
      "source": [
        "- antecedents: O conjunto de itens que aparece antes da seta (->).\n",
        "- consequents: O conjunto de itens que aparece após a seta (->).\n",
        "\n",
        "- antecedent support: A proporção de transações que contêm o antecedente em relação ao total de transações.\n",
        "- consequent support: A proporção de transações que contêm o consequente em relação ao total de transações.\n",
        "\n",
        "- support: A proporção de transações que contêm tanto o antecedente quanto o consequente em relação ao total de transações.\n",
        "\n",
        "- confidence: A confiança da regra é a probabilidade condicional de o consequente ocorrer dado o antecedente.\n",
        "\n",
        "- lift: O lift é a razão entre a confiança da regra e o suporte do consequente. Um lift maior que 1 indica uma associação positiva.\n",
        "\n",
        "- leverage: Mede quanto a ocorrência conjunta da antecedente e consequente difere da ocorrência esperada se fossem independentes.\n",
        "\n",
        "- conviction: Mede o quão independente são o antecedente e o consequente. Valores mais altos indicam maior dependência."
      ],
      "metadata": {
        "id": "u3PJomoh04vj"
      }
    }
  ],
  "metadata": {
    "colab": {
      "provenance": [],
      "authorship_tag": "ABX9TyOQzIRpsKajOlUTDxQy3fem",
      "include_colab_link": true
    },
    "kernelspec": {
      "display_name": "Python 3",
      "name": "python3"
    },
    "language_info": {
      "name": "python"
    }
  },
  "nbformat": 4,
  "nbformat_minor": 0
}