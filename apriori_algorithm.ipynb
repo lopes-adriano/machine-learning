{
  "cells": [
    {
      "cell_type": "markdown",
      "metadata": {
        "id": "view-in-github",
        "colab_type": "text"
      },
      "source": [
        "<a href=\"https://colab.research.google.com/github/lopes-adriano/machine-learning/blob/main/apriori_algorithm.ipynb\" target=\"_parent\"><img src=\"https://colab.research.google.com/assets/colab-badge.svg\" alt=\"Open In Colab\"/></a>"
      ]
    },
    {
      "cell_type": "markdown",
      "metadata": {
        "id": "z5jlvMyAd-jW"
      },
      "source": [
        "# Algoritmos de ML - Aprendizado não supervisionado\n",
        "\n",
        "Aluno: Adriano Ferreira Lopes\n",
        "\n",
        "Matrícula: 201802671"
      ]
    },
    {
      "cell_type": "markdown",
      "metadata": {
        "id": "1_pb6J2zeOjA"
      },
      "source": [
        "## Apriori Algorithm"
      ]
    },
    {
      "cell_type": "markdown",
      "metadata": {
        "id": "9-ow1GUeehW_"
      },
      "source": [
        "### Introdução"
      ]
    },
    {
      "cell_type": "markdown",
      "metadata": {
        "id": "lUtOjw38ektE"
      },
      "source": [
        "O Apriori é um algoritmo de mineração de regras de associação usado para descobrir padrões frequentes em conjuntos de dados. Ele opera identificando itens frequentes em transações e construindo regras de associação que descrevem a relação entre diferentes itens. A abordagem chave do Apriori é a geração iterativa de conjuntos de itens frequentes, explorando o princípio de que um conjunto de itens frequente deve conter todos os seus subconjuntos frequentes."
      ]
    },
    {
      "cell_type": "markdown",
      "metadata": {
        "id": "uPIlTIase4Gg"
      },
      "source": [
        "### Aplicações"
      ]
    },
    {
      "cell_type": "markdown",
      "metadata": {
        "id": "xssLHCLDe56b"
      },
      "source": [
        "- Varejo e Comércio Eletrônico: No setor de varejo, o Apriori é utilizado para análise de cestas de compras, permitindo a recomendação de produtos com base nas associações frequentes entre itens comprados juntos.\n",
        "\n",
        "- Análise de Dados da Web: Em análise de logs da web, o Apriori pode ser aplicado para descobrir padrões de comportamento do usuário, melhorando a personalização de conteúdo.\n",
        "\n",
        "- Saúde e Medicina: Na área de saúde, o Apriori pode ser empregado para identificar associações entre sintomas e condições médicas com base em registros de pacientes."
      ]
    },
    {
      "cell_type": "markdown",
      "metadata": {
        "id": "hVDPta7DfAn1"
      },
      "source": [
        "### Vantagens"
      ]
    },
    {
      "cell_type": "markdown",
      "metadata": {
        "id": "vLJyTU9NfCs9"
      },
      "source": [
        "1. Simplicidade e Interpretabilidade: O Apriori é fácil de compreender e interpretar, tornando-se uma escolha acessível para análise de padrões em dados transacionais.\n",
        "\n",
        "2. Identificação de Relações Entre Itens: Permite a descoberta de relações frequentes entre itens, revelando associações úteis e insights de negócios.\n",
        "\n",
        "3. Adaptabilidade a Dados Variáveis: Pode ser aplicado a diferentes tipos de dados, como transações de compras, registros médicos e padrões de navegação na web."
      ]
    },
    {
      "cell_type": "markdown",
      "metadata": {
        "id": "NdK-HZdlfMWB"
      },
      "source": [
        "### Desvantagens"
      ]
    },
    {
      "cell_type": "markdown",
      "metadata": {
        "id": "WssxpYwVfYs7"
      },
      "source": [
        "1. Custo Computacional Elevado: O Apriori pode ser computacionalmente intensivo, especialmente em conjuntos de dados grandes, devido à necessidade de gerar todos os conjuntos de itens frequentes.\n",
        "\n",
        "2. Manejo de Dados Esparsos: Pode enfrentar desafios em conjuntos de dados com muitos itens, resultando em uma matriz esparsa e aumento nos requisitos de memória.\n",
        "\n",
        "3. Sensibilidade a Parâmetros: O desempenho do Apriori pode depender da configuração de parâmetros, como o suporte mínimo, exigindo ajustes cuidadosos."
      ]
    },
    {
      "cell_type": "markdown",
      "metadata": {
        "id": "83AzTaLIfdNS"
      },
      "source": [
        "### Exemplo de código"
      ]
    },
    {
      "cell_type": "code",
      "source": [
        "# Importando bibliotecas\n",
        "from mlxtend.preprocessing import TransactionEncoder\n",
        "from mlxtend.frequent_patterns import apriori, association_rules\n",
        "import pandas as pd"
      ],
      "metadata": {
        "id": "zZsNWciw1opZ"
      },
      "execution_count": 1,
      "outputs": []
    },
    {
      "cell_type": "code",
      "execution_count": null,
      "metadata": {
        "id": "P6BkypM6eMol"
      },
      "outputs": [],
      "source": [
        "# Dados de exemplo (transações de compra)\n",
        "transactions = [\n",
        "    ['Leite', 'Pão', 'Manteiga', 'Cerveja'],\n",
        "    ['Leite', 'Pão', 'Cerveja', 'Frutas'],\n",
        "    ['Leite', 'Ovos', 'Cerveja', 'Frutas'],\n",
        "    ['Pão', 'Ovos', 'Manteiga', 'Cerveja'],\n",
        "    ['Manteiga', 'Ovos', 'Cerveja', 'Frutas'],\n",
        "    ['Leite', 'Pão', 'Manteiga'],\n",
        "    ['Leite', 'Pão', 'Cerveja'],\n",
        "    ['Pão', 'Ovos', 'Manteiga', 'Frutas'],\n",
        "    ['Leite', 'Pão', 'Ovos', 'Manteiga', 'Cerveja'],\n",
        "    ['Leite', 'Ovos', 'Cerveja', 'Frutas'],\n",
        "    ['Pão', 'Manteiga', 'Cerveja', 'Frutas'],\n",
        "    ['Leite', 'Pão', 'Ovos', 'Manteiga'],\n",
        "]"
      ]
    },
    {
      "cell_type": "code",
      "execution_count": null,
      "metadata": {
        "id": "iqshVY9Nc5vs"
      },
      "outputs": [],
      "source": [
        "# Convertendo os dados para o formato esperado pelo Apriori\n",
        "te = TransactionEncoder()\n",
        "te_ary = te.fit(transactions).transform(transactions)\n",
        "\n",
        "# Criando um DataFrame com os dados transformados\n",
        "df = pd.DataFrame(te_ary, columns=te.columns_)"
      ]
    },
    {
      "cell_type": "code",
      "execution_count": null,
      "metadata": {
        "id": "D-tLnl_2c7s5"
      },
      "outputs": [],
      "source": [
        "# Aplicando o algoritmo Apriori para encontrar itens frequentes\n",
        "frequent_itemsets = apriori(df, min_support=0.4, use_colnames=True)\n",
        "\n",
        "# Gerando regras de associação\n",
        "rules = pd.DataFrame(association_rules(frequent_itemsets, metric=\"confidence\", min_threshold=0.7))"
      ]
    },
    {
      "cell_type": "code",
      "execution_count": 11,
      "metadata": {
        "colab": {
          "base_uri": "https://localhost:8080/",
          "height": 636
        },
        "id": "Ham0hlz4c9CV",
        "outputId": "242204da-ce0b-4394-c40a-fe17bca35b08"
      },
      "outputs": [
        {
          "output_type": "stream",
          "name": "stdout",
          "text": [
            "Itens Frequentes:\n",
            "     support             itemsets\n",
            "0   0.750000            (Cerveja)\n",
            "1   0.500000             (Frutas)\n",
            "2   0.666667              (Leite)\n",
            "3   0.666667           (Manteiga)\n",
            "4   0.583333               (Ovos)\n",
            "5   0.750000                (Pão)\n",
            "6   0.416667    (Frutas, Cerveja)\n",
            "7   0.500000     (Leite, Cerveja)\n",
            "8   0.416667  (Cerveja, Manteiga)\n",
            "9   0.416667      (Cerveja, Ovos)\n",
            "10  0.500000       (Cerveja, Pão)\n",
            "11  0.500000         (Leite, Pão)\n",
            "12  0.416667     (Ovos, Manteiga)\n",
            "13  0.583333      (Pão, Manteiga)\n",
            "\n",
            "Regras de Associação:\n"
          ]
        },
        {
          "output_type": "stream",
          "name": "stderr",
          "text": [
            "/usr/local/lib/python3.10/dist-packages/ipykernel/ipkernel.py:283: DeprecationWarning: `should_run_async` will not call `transform_cell` automatically in the future. Please pass the result to `transformed_cell` argument and any exception that happen during thetransform in `preprocessing_exc_tuple` in IPython 7.17 and above.\n",
            "  and should_run_async(code)\n"
          ]
        },
        {
          "output_type": "execute_result",
          "data": {
            "text/plain": [
              "  antecedents consequents  antecedent support  consequent support   support  \\\n",
              "0    (Frutas)   (Cerveja)            0.500000            0.750000  0.416667   \n",
              "1     (Leite)   (Cerveja)            0.666667            0.750000  0.500000   \n",
              "2      (Ovos)   (Cerveja)            0.583333            0.750000  0.416667   \n",
              "3     (Leite)       (Pão)            0.666667            0.750000  0.500000   \n",
              "4      (Ovos)  (Manteiga)            0.583333            0.666667  0.416667   \n",
              "5       (Pão)  (Manteiga)            0.750000            0.666667  0.583333   \n",
              "6  (Manteiga)       (Pão)            0.666667            0.750000  0.583333   \n",
              "\n",
              "   confidence      lift  leverage  conviction  zhangs_metric  \n",
              "0    0.833333  1.111111  0.041667    1.500000       0.200000  \n",
              "1    0.750000  1.000000  0.000000    1.000000       0.000000  \n",
              "2    0.714286  0.952381 -0.020833    0.875000      -0.107143  \n",
              "3    0.750000  1.000000  0.000000    1.000000       0.000000  \n",
              "4    0.714286  1.071429  0.027778    1.166667       0.160000  \n",
              "5    0.777778  1.166667  0.083333    1.500000       0.571429  \n",
              "6    0.875000  1.166667  0.083333    2.000000       0.428571  "
            ],
            "text/html": [
              "\n",
              "  <div id=\"df-43ad1c92-e496-488a-aadf-6b35d9f1c910\" class=\"colab-df-container\">\n",
              "    <div>\n",
              "<style scoped>\n",
              "    .dataframe tbody tr th:only-of-type {\n",
              "        vertical-align: middle;\n",
              "    }\n",
              "\n",
              "    .dataframe tbody tr th {\n",
              "        vertical-align: top;\n",
              "    }\n",
              "\n",
              "    .dataframe thead th {\n",
              "        text-align: right;\n",
              "    }\n",
              "</style>\n",
              "<table border=\"1\" class=\"dataframe\">\n",
              "  <thead>\n",
              "    <tr style=\"text-align: right;\">\n",
              "      <th></th>\n",
              "      <th>antecedents</th>\n",
              "      <th>consequents</th>\n",
              "      <th>antecedent support</th>\n",
              "      <th>consequent support</th>\n",
              "      <th>support</th>\n",
              "      <th>confidence</th>\n",
              "      <th>lift</th>\n",
              "      <th>leverage</th>\n",
              "      <th>conviction</th>\n",
              "      <th>zhangs_metric</th>\n",
              "    </tr>\n",
              "  </thead>\n",
              "  <tbody>\n",
              "    <tr>\n",
              "      <th>0</th>\n",
              "      <td>(Frutas)</td>\n",
              "      <td>(Cerveja)</td>\n",
              "      <td>0.500000</td>\n",
              "      <td>0.750000</td>\n",
              "      <td>0.416667</td>\n",
              "      <td>0.833333</td>\n",
              "      <td>1.111111</td>\n",
              "      <td>0.041667</td>\n",
              "      <td>1.500000</td>\n",
              "      <td>0.200000</td>\n",
              "    </tr>\n",
              "    <tr>\n",
              "      <th>1</th>\n",
              "      <td>(Leite)</td>\n",
              "      <td>(Cerveja)</td>\n",
              "      <td>0.666667</td>\n",
              "      <td>0.750000</td>\n",
              "      <td>0.500000</td>\n",
              "      <td>0.750000</td>\n",
              "      <td>1.000000</td>\n",
              "      <td>0.000000</td>\n",
              "      <td>1.000000</td>\n",
              "      <td>0.000000</td>\n",
              "    </tr>\n",
              "    <tr>\n",
              "      <th>2</th>\n",
              "      <td>(Ovos)</td>\n",
              "      <td>(Cerveja)</td>\n",
              "      <td>0.583333</td>\n",
              "      <td>0.750000</td>\n",
              "      <td>0.416667</td>\n",
              "      <td>0.714286</td>\n",
              "      <td>0.952381</td>\n",
              "      <td>-0.020833</td>\n",
              "      <td>0.875000</td>\n",
              "      <td>-0.107143</td>\n",
              "    </tr>\n",
              "    <tr>\n",
              "      <th>3</th>\n",
              "      <td>(Leite)</td>\n",
              "      <td>(Pão)</td>\n",
              "      <td>0.666667</td>\n",
              "      <td>0.750000</td>\n",
              "      <td>0.500000</td>\n",
              "      <td>0.750000</td>\n",
              "      <td>1.000000</td>\n",
              "      <td>0.000000</td>\n",
              "      <td>1.000000</td>\n",
              "      <td>0.000000</td>\n",
              "    </tr>\n",
              "    <tr>\n",
              "      <th>4</th>\n",
              "      <td>(Ovos)</td>\n",
              "      <td>(Manteiga)</td>\n",
              "      <td>0.583333</td>\n",
              "      <td>0.666667</td>\n",
              "      <td>0.416667</td>\n",
              "      <td>0.714286</td>\n",
              "      <td>1.071429</td>\n",
              "      <td>0.027778</td>\n",
              "      <td>1.166667</td>\n",
              "      <td>0.160000</td>\n",
              "    </tr>\n",
              "    <tr>\n",
              "      <th>5</th>\n",
              "      <td>(Pão)</td>\n",
              "      <td>(Manteiga)</td>\n",
              "      <td>0.750000</td>\n",
              "      <td>0.666667</td>\n",
              "      <td>0.583333</td>\n",
              "      <td>0.777778</td>\n",
              "      <td>1.166667</td>\n",
              "      <td>0.083333</td>\n",
              "      <td>1.500000</td>\n",
              "      <td>0.571429</td>\n",
              "    </tr>\n",
              "    <tr>\n",
              "      <th>6</th>\n",
              "      <td>(Manteiga)</td>\n",
              "      <td>(Pão)</td>\n",
              "      <td>0.666667</td>\n",
              "      <td>0.750000</td>\n",
              "      <td>0.583333</td>\n",
              "      <td>0.875000</td>\n",
              "      <td>1.166667</td>\n",
              "      <td>0.083333</td>\n",
              "      <td>2.000000</td>\n",
              "      <td>0.428571</td>\n",
              "    </tr>\n",
              "  </tbody>\n",
              "</table>\n",
              "</div>\n",
              "    <div class=\"colab-df-buttons\">\n",
              "\n",
              "  <div class=\"colab-df-container\">\n",
              "    <button class=\"colab-df-convert\" onclick=\"convertToInteractive('df-43ad1c92-e496-488a-aadf-6b35d9f1c910')\"\n",
              "            title=\"Convert this dataframe to an interactive table.\"\n",
              "            style=\"display:none;\">\n",
              "\n",
              "  <svg xmlns=\"http://www.w3.org/2000/svg\" height=\"24px\" viewBox=\"0 -960 960 960\">\n",
              "    <path d=\"M120-120v-720h720v720H120Zm60-500h600v-160H180v160Zm220 220h160v-160H400v160Zm0 220h160v-160H400v160ZM180-400h160v-160H180v160Zm440 0h160v-160H620v160ZM180-180h160v-160H180v160Zm440 0h160v-160H620v160Z\"/>\n",
              "  </svg>\n",
              "    </button>\n",
              "\n",
              "  <style>\n",
              "    .colab-df-container {\n",
              "      display:flex;\n",
              "      gap: 12px;\n",
              "    }\n",
              "\n",
              "    .colab-df-convert {\n",
              "      background-color: #E8F0FE;\n",
              "      border: none;\n",
              "      border-radius: 50%;\n",
              "      cursor: pointer;\n",
              "      display: none;\n",
              "      fill: #1967D2;\n",
              "      height: 32px;\n",
              "      padding: 0 0 0 0;\n",
              "      width: 32px;\n",
              "    }\n",
              "\n",
              "    .colab-df-convert:hover {\n",
              "      background-color: #E2EBFA;\n",
              "      box-shadow: 0px 1px 2px rgba(60, 64, 67, 0.3), 0px 1px 3px 1px rgba(60, 64, 67, 0.15);\n",
              "      fill: #174EA6;\n",
              "    }\n",
              "\n",
              "    .colab-df-buttons div {\n",
              "      margin-bottom: 4px;\n",
              "    }\n",
              "\n",
              "    [theme=dark] .colab-df-convert {\n",
              "      background-color: #3B4455;\n",
              "      fill: #D2E3FC;\n",
              "    }\n",
              "\n",
              "    [theme=dark] .colab-df-convert:hover {\n",
              "      background-color: #434B5C;\n",
              "      box-shadow: 0px 1px 3px 1px rgba(0, 0, 0, 0.15);\n",
              "      filter: drop-shadow(0px 1px 2px rgba(0, 0, 0, 0.3));\n",
              "      fill: #FFFFFF;\n",
              "    }\n",
              "  </style>\n",
              "\n",
              "    <script>\n",
              "      const buttonEl =\n",
              "        document.querySelector('#df-43ad1c92-e496-488a-aadf-6b35d9f1c910 button.colab-df-convert');\n",
              "      buttonEl.style.display =\n",
              "        google.colab.kernel.accessAllowed ? 'block' : 'none';\n",
              "\n",
              "      async function convertToInteractive(key) {\n",
              "        const element = document.querySelector('#df-43ad1c92-e496-488a-aadf-6b35d9f1c910');\n",
              "        const dataTable =\n",
              "          await google.colab.kernel.invokeFunction('convertToInteractive',\n",
              "                                                    [key], {});\n",
              "        if (!dataTable) return;\n",
              "\n",
              "        const docLinkHtml = 'Like what you see? Visit the ' +\n",
              "          '<a target=\"_blank\" href=https://colab.research.google.com/notebooks/data_table.ipynb>data table notebook</a>'\n",
              "          + ' to learn more about interactive tables.';\n",
              "        element.innerHTML = '';\n",
              "        dataTable['output_type'] = 'display_data';\n",
              "        await google.colab.output.renderOutput(dataTable, element);\n",
              "        const docLink = document.createElement('div');\n",
              "        docLink.innerHTML = docLinkHtml;\n",
              "        element.appendChild(docLink);\n",
              "      }\n",
              "    </script>\n",
              "  </div>\n",
              "\n",
              "\n",
              "<div id=\"df-8bd7e5c5-21bd-43a7-a7d8-8664fd792ba1\">\n",
              "  <button class=\"colab-df-quickchart\" onclick=\"quickchart('df-8bd7e5c5-21bd-43a7-a7d8-8664fd792ba1')\"\n",
              "            title=\"Suggest charts\"\n",
              "            style=\"display:none;\">\n",
              "\n",
              "<svg xmlns=\"http://www.w3.org/2000/svg\" height=\"24px\"viewBox=\"0 0 24 24\"\n",
              "     width=\"24px\">\n",
              "    <g>\n",
              "        <path d=\"M19 3H5c-1.1 0-2 .9-2 2v14c0 1.1.9 2 2 2h14c1.1 0 2-.9 2-2V5c0-1.1-.9-2-2-2zM9 17H7v-7h2v7zm4 0h-2V7h2v10zm4 0h-2v-4h2v4z\"/>\n",
              "    </g>\n",
              "</svg>\n",
              "  </button>\n",
              "\n",
              "<style>\n",
              "  .colab-df-quickchart {\n",
              "      --bg-color: #E8F0FE;\n",
              "      --fill-color: #1967D2;\n",
              "      --hover-bg-color: #E2EBFA;\n",
              "      --hover-fill-color: #174EA6;\n",
              "      --disabled-fill-color: #AAA;\n",
              "      --disabled-bg-color: #DDD;\n",
              "  }\n",
              "\n",
              "  [theme=dark] .colab-df-quickchart {\n",
              "      --bg-color: #3B4455;\n",
              "      --fill-color: #D2E3FC;\n",
              "      --hover-bg-color: #434B5C;\n",
              "      --hover-fill-color: #FFFFFF;\n",
              "      --disabled-bg-color: #3B4455;\n",
              "      --disabled-fill-color: #666;\n",
              "  }\n",
              "\n",
              "  .colab-df-quickchart {\n",
              "    background-color: var(--bg-color);\n",
              "    border: none;\n",
              "    border-radius: 50%;\n",
              "    cursor: pointer;\n",
              "    display: none;\n",
              "    fill: var(--fill-color);\n",
              "    height: 32px;\n",
              "    padding: 0;\n",
              "    width: 32px;\n",
              "  }\n",
              "\n",
              "  .colab-df-quickchart:hover {\n",
              "    background-color: var(--hover-bg-color);\n",
              "    box-shadow: 0 1px 2px rgba(60, 64, 67, 0.3), 0 1px 3px 1px rgba(60, 64, 67, 0.15);\n",
              "    fill: var(--button-hover-fill-color);\n",
              "  }\n",
              "\n",
              "  .colab-df-quickchart-complete:disabled,\n",
              "  .colab-df-quickchart-complete:disabled:hover {\n",
              "    background-color: var(--disabled-bg-color);\n",
              "    fill: var(--disabled-fill-color);\n",
              "    box-shadow: none;\n",
              "  }\n",
              "\n",
              "  .colab-df-spinner {\n",
              "    border: 2px solid var(--fill-color);\n",
              "    border-color: transparent;\n",
              "    border-bottom-color: var(--fill-color);\n",
              "    animation:\n",
              "      spin 1s steps(1) infinite;\n",
              "  }\n",
              "\n",
              "  @keyframes spin {\n",
              "    0% {\n",
              "      border-color: transparent;\n",
              "      border-bottom-color: var(--fill-color);\n",
              "      border-left-color: var(--fill-color);\n",
              "    }\n",
              "    20% {\n",
              "      border-color: transparent;\n",
              "      border-left-color: var(--fill-color);\n",
              "      border-top-color: var(--fill-color);\n",
              "    }\n",
              "    30% {\n",
              "      border-color: transparent;\n",
              "      border-left-color: var(--fill-color);\n",
              "      border-top-color: var(--fill-color);\n",
              "      border-right-color: var(--fill-color);\n",
              "    }\n",
              "    40% {\n",
              "      border-color: transparent;\n",
              "      border-right-color: var(--fill-color);\n",
              "      border-top-color: var(--fill-color);\n",
              "    }\n",
              "    60% {\n",
              "      border-color: transparent;\n",
              "      border-right-color: var(--fill-color);\n",
              "    }\n",
              "    80% {\n",
              "      border-color: transparent;\n",
              "      border-right-color: var(--fill-color);\n",
              "      border-bottom-color: var(--fill-color);\n",
              "    }\n",
              "    90% {\n",
              "      border-color: transparent;\n",
              "      border-bottom-color: var(--fill-color);\n",
              "    }\n",
              "  }\n",
              "</style>\n",
              "\n",
              "  <script>\n",
              "    async function quickchart(key) {\n",
              "      const quickchartButtonEl =\n",
              "        document.querySelector('#' + key + ' button');\n",
              "      quickchartButtonEl.disabled = true;  // To prevent multiple clicks.\n",
              "      quickchartButtonEl.classList.add('colab-df-spinner');\n",
              "      try {\n",
              "        const charts = await google.colab.kernel.invokeFunction(\n",
              "            'suggestCharts', [key], {});\n",
              "      } catch (error) {\n",
              "        console.error('Error during call to suggestCharts:', error);\n",
              "      }\n",
              "      quickchartButtonEl.classList.remove('colab-df-spinner');\n",
              "      quickchartButtonEl.classList.add('colab-df-quickchart-complete');\n",
              "    }\n",
              "    (() => {\n",
              "      let quickchartButtonEl =\n",
              "        document.querySelector('#df-8bd7e5c5-21bd-43a7-a7d8-8664fd792ba1 button');\n",
              "      quickchartButtonEl.style.display =\n",
              "        google.colab.kernel.accessAllowed ? 'block' : 'none';\n",
              "    })();\n",
              "  </script>\n",
              "</div>\n",
              "    </div>\n",
              "  </div>\n"
            ]
          },
          "metadata": {},
          "execution_count": 11
        }
      ],
      "source": [
        "# Exibindo itens frequentes e regras de associação\n",
        "print(\"Itens Frequentes:\")\n",
        "print(frequent_itemsets)\n",
        "\n",
        "print(\"\\nRegras de Associação:\")\n",
        "rules"
      ]
    },
    {
      "cell_type": "markdown",
      "source": [
        "- antecedents: O conjunto de itens que aparece antes da seta (->).\n",
        "- consequents: O conjunto de itens que aparece após a seta (->).\n",
        "\n",
        "- antecedent support: A proporção de transações que contêm o antecedente em relação ao total de transações.\n",
        "- consequent support: A proporção de transações que contêm o consequente em relação ao total de transações.\n",
        "\n",
        "- support: A proporção de transações que contêm tanto o antecedente quanto o consequente em relação ao total de transações.\n",
        "\n",
        "- confidence: A confiança da regra é a probabilidade condicional de o consequente ocorrer dado o antecedente.\n",
        "\n",
        "- lift: O lift é a razão entre a confiança da regra e o suporte do consequente. Um lift maior que 1 indica uma associação positiva.\n",
        "\n",
        "- leverage: Mede quanto a ocorrência conjunta da antecedente e consequente difere da ocorrência esperada se fossem independentes.\n",
        "\n",
        "- conviction: Mede o quão independente são o antecedente e o consequente. Valores mais altos indicam maior dependência."
      ],
      "metadata": {
        "id": "u3PJomoh04vj"
      }
    }
  ],
  "metadata": {
    "colab": {
      "provenance": [],
      "authorship_tag": "ABX9TyOpNuPfd2mhwNJxDBLVWyEI",
      "include_colab_link": true
    },
    "kernelspec": {
      "display_name": "Python 3",
      "name": "python3"
    },
    "language_info": {
      "name": "python"
    }
  },
  "nbformat": 4,
  "nbformat_minor": 0
}