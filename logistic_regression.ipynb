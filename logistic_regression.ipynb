{
  "cells": [
    {
      "cell_type": "markdown",
      "metadata": {
        "id": "view-in-github",
        "colab_type": "text"
      },
      "source": [
        "<a href=\"https://colab.research.google.com/github/lopes-adriano/machine-learning/blob/main/logistic_regression.ipynb\" target=\"_parent\"><img src=\"https://colab.research.google.com/assets/colab-badge.svg\" alt=\"Open In Colab\"/></a>"
      ]
    },
    {
      "cell_type": "markdown",
      "metadata": {
        "id": "z5jlvMyAd-jW"
      },
      "source": [
        "# Algoritmos de ML - Aprendizado supervisionado\n",
        "\n",
        "Aluno: Adriano Ferreira Lopes\n",
        "\n",
        "Matrícula: 201802671"
      ]
    },
    {
      "cell_type": "markdown",
      "metadata": {
        "id": "1_pb6J2zeOjA"
      },
      "source": [
        "## Regressão Logística"
      ]
    },
    {
      "cell_type": "markdown",
      "metadata": {
        "id": "9-ow1GUeehW_"
      },
      "source": [
        "### Introdução"
      ]
    },
    {
      "cell_type": "markdown",
      "metadata": {
        "id": "lUtOjw38ektE"
      },
      "source": [
        "A Regressão Logística é um modelo de aprendizado supervisionado usado para tarefas de classificação binária, onde o objetivo é prever a probabilidade de um exemplo pertencer a uma classe específica. Apesar do nome, não é um modelo de regressão no sentido tradicional; em vez disso, utiliza a função logística (ou sigmoide) para transformar uma combinação linear das características em uma probabilidade entre 0 e 1. Valores acima de um certo limiar são atribuídos a uma classe, enquanto valores abaixo são atribuídos à outra."
      ]
    },
    {
      "cell_type": "markdown",
      "metadata": {
        "id": "uPIlTIase4Gg"
      },
      "source": [
        "### Aplicações"
      ]
    },
    {
      "cell_type": "markdown",
      "metadata": {
        "id": "xssLHCLDe56b"
      },
      "source": [
        "- Medicina: Previsão de doenças com base em dados médicos, como diabetes ou câncer.\n",
        "\n",
        "- Finanças: Análise de risco de crédito para concessão de empréstimos.\n",
        "\n",
        "- Marketing: Previsão de probabilidade de compra de um produto."
      ]
    },
    {
      "cell_type": "markdown",
      "metadata": {
        "id": "hVDPta7DfAn1"
      },
      "source": [
        "### Vantagens"
      ]
    },
    {
      "cell_type": "markdown",
      "metadata": {
        "id": "vLJyTU9NfCs9"
      },
      "source": [
        "- Interpretabilidade: Fácil interpretação das probabilidades previstas.\n",
        "\n",
        "- Eficiência em Problemas Binários: Ideal para tarefas de classificação binária.\n",
        "\n",
        "- Menos Sensível a Outliers: Comparativamente menos sensível a outliers em comparação com outros modelos."
      ]
    },
    {
      "cell_type": "markdown",
      "metadata": {
        "id": "NdK-HZdlfMWB"
      },
      "source": [
        "### Desvantagens"
      ]
    },
    {
      "cell_type": "markdown",
      "metadata": {
        "id": "WssxpYwVfYs7"
      },
      "source": [
        "- Limitado a Classificação Binária: Originalmente projetado para problemas binários e requer adaptações para tarefas multiclasse.\n",
        "\n",
        "- Assume Linearidade nas Características: Pode não funcionar bem em casos onde a relação entre características não é aproximadamente linear.\n",
        "\n",
        "- Requer Independência das Observações: Assume que as observações são independentes, o que pode não ser sempre verdade."
      ]
    },
    {
      "cell_type": "markdown",
      "metadata": {
        "id": "83AzTaLIfdNS"
      },
      "source": [
        "### Exemplo de código"
      ]
    },
    {
      "cell_type": "code",
      "source": [
        "# Importando bibliotecas\n",
        "import numpy as np\n",
        "import matplotlib.pyplot as plt\n",
        "from sklearn.model_selection import train_test_split\n",
        "from sklearn.linear_model import LogisticRegression\n",
        "from sklearn.metrics import accuracy_score, confusion_matrix, roc_curve, ConfusionMatrixDisplay"
      ],
      "metadata": {
        "id": "zZsNWciw1opZ"
      },
      "execution_count": 75,
      "outputs": []
    },
    {
      "cell_type": "code",
      "execution_count": 76,
      "metadata": {
        "id": "P6BkypM6eMol"
      },
      "outputs": [],
      "source": [
        "# Gerando dados de exemplo\n",
        "np.random.seed(42)\n",
        "X = 2 * np.random.rand(300, 1)\n",
        "y = (4 + 3 * X + np.random.randn(300, 1)) > 7  # Criando uma variável booleana\n",
        "\n",
        "# Dividindo os dados em conjunto de treinamento e teste\n",
        "X_train, X_test, y_train, y_test = train_test_split(X, y, test_size=0.3, random_state=42)"
      ]
    },
    {
      "cell_type": "code",
      "execution_count": 77,
      "metadata": {
        "id": "iqshVY9Nc5vs"
      },
      "outputs": [],
      "source": [
        "# Criando e treinando o modelo de Regressão Logística\n",
        "model = LogisticRegression()\n",
        "model.fit(X_train, y_train.ravel())\n",
        "\n",
        "# Fazendo previsões no conjunto de teste\n",
        "y_pred = model.predict(X_test)"
      ]
    },
    {
      "cell_type": "code",
      "execution_count": 78,
      "metadata": {
        "id": "D-tLnl_2c7s5",
        "colab": {
          "base_uri": "https://localhost:8080/"
        },
        "outputId": "047cd974-7849-44a2-f33b-d558d8f6a583"
      },
      "outputs": [
        {
          "output_type": "stream",
          "name": "stdout",
          "text": [
            "Acurácia do Modelo: 0.92\n"
          ]
        }
      ],
      "source": [
        "# Avaliando a acurácia do modelo\n",
        "accuracy = accuracy_score(y_test, y_pred)\n",
        "print(f'Acurácia do Modelo: {accuracy:.2f}')"
      ]
    },
    {
      "cell_type": "code",
      "source": [
        "# Visualizando a Matriz de Confusão\n",
        "conf_matrix = confusion_matrix(y_test, y_pred)\n",
        "cm_display = ConfusionMatrixDisplay(confusion_matrix = conf_matrix, display_labels = [False, True])\n",
        "\n",
        "cm_display.plot()\n",
        "plt.show()"
      ],
      "metadata": {
        "colab": {
          "base_uri": "https://localhost:8080/",
          "height": 449
        },
        "id": "Nn_XREQ1GwT2",
        "outputId": "1894b5b9-71fd-4576-fbd1-6c7eaf2a5625"
      },
      "execution_count": 79,
      "outputs": [
        {
          "output_type": "display_data",
          "data": {
            "text/plain": [
              "<Figure size 640x480 with 2 Axes>"
            ],
            "image/png": "[encoded data removed]"
          },
          "metadata": {}
        }
      ]
    }
  ],
  "metadata": {
    "colab": {
      "provenance": [],
      "authorship_tag": "ABX9TyNK2Dc1Bfm5mslDr2LEgULg",
      "include_colab_link": true
    },
    "kernelspec": {
      "display_name": "Python 3",
      "name": "python3"
    },
    "language_info": {
      "name": "python"
    }
  },
  "nbformat": 4,
  "nbformat_minor": 0
}