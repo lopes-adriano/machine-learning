{
  "cells": [
    {
      "cell_type": "markdown",
      "metadata": {
        "id": "view-in-github",
        "colab_type": "text"
      },
      "source": [
        "<a href=\"https://colab.research.google.com/github/lopes-adriano/machine-learning/blob/main/linear_regression.ipynb\" target=\"_parent\"><img src=\"https://colab.research.google.com/assets/colab-badge.svg\" alt=\"Open In Colab\"/></a>"
      ]
    },
    {
      "cell_type": "markdown",
      "metadata": {
        "id": "z5jlvMyAd-jW"
      },
      "source": [
        "# Algoritmos de ML - Aprendizado supervisionado\n",
        "\n",
        "Aluno: Adriano Ferreira Lopes\n",
        "\n",
        "Matrícula: 201802671"
      ]
    },
    {
      "cell_type": "markdown",
      "metadata": {
        "id": "1_pb6J2zeOjA"
      },
      "source": [
        "## Regressão Linear"
      ]
    },
    {
      "cell_type": "markdown",
      "metadata": {
        "id": "9-ow1GUeehW_"
      },
      "source": [
        "### Introdução"
      ]
    },
    {
      "cell_type": "markdown",
      "metadata": {
        "id": "lUtOjw38ektE"
      },
      "source": [
        "A Regressão Linear é um modelo estatístico que busca estabelecer a relação linear entre uma variável dependente e uma ou mais variáveis independentes. A abordagem básica assume que a relação entre as variáveis pode ser representada por uma linha reta. O objetivo é encontrar os coeficientes que melhor ajustam essa linha aos dados, minimizando a soma dos quadrados das diferenças entre as previsões do modelo e os valores reais."
      ]
    },
    {
      "cell_type": "markdown",
      "metadata": {
        "id": "uPIlTIase4Gg"
      },
      "source": [
        "### Aplicações"
      ]
    },
    {
      "cell_type": "markdown",
      "metadata": {
        "id": "xssLHCLDe56b"
      },
      "source": [
        "- Previsão Financeira: Utilizado para prever preços de ações, taxas de câmbio e outras métricas financeiras.\n",
        "\n",
        "- Economia: Aplicado para analisar relações entre variáveis econômicas, como renda e consumo.\n",
        "\n",
        "- Engenharia: Usado em modelagem de processos físicos, como a relação entre temperatura e pressão."
      ]
    },
    {
      "cell_type": "markdown",
      "metadata": {
        "id": "hVDPta7DfAn1"
      },
      "source": [
        "### Vantagens"
      ]
    },
    {
      "cell_type": "markdown",
      "metadata": {
        "id": "vLJyTU9NfCs9"
      },
      "source": [
        "1. Interpretabilidade: Fácil interpretação, especialmente quando há apenas algumas variáveis independentes.\n",
        "\n",
        "2. Eficiência em Problemas Simples: Funciona bem quando a relação entre variáveis é aproximadamente linear.\n",
        "\n",
        "3. Computacionalmente Eficiente: Treinamento e previsão são geralmente rápidos, mesmo em grandes conjuntos de dados."
      ]
    },
    {
      "cell_type": "markdown",
      "metadata": {
        "id": "NdK-HZdlfMWB"
      },
      "source": [
        "### Desvantagens"
      ]
    },
    {
      "cell_type": "markdown",
      "metadata": {
        "id": "WssxpYwVfYs7"
      },
      "source": [
        "1. Sensível a Outliers: Sensível a valores extremos que podem distorcer a linha de regressão.\n",
        "\n",
        "2. Limitado a Relações Lineares: Pode não capturar relações complexas entre variáveis.\n",
        "\n",
        "3. Underfitting: problemas com dados menores com muitas variáveis independentes."
      ]
    },
    {
      "cell_type": "markdown",
      "metadata": {
        "id": "83AzTaLIfdNS"
      },
      "source": [
        "### Exemplo de código"
      ]
    },
    {
      "cell_type": "code",
      "source": [
        "# Importando bibliotecas\n",
        "import numpy as np\n",
        "import matplotlib.pyplot as plt\n",
        "from sklearn.model_selection import train_test_split\n",
        "from sklearn.linear_model import LinearRegression"
      ],
      "metadata": {
        "id": "zZsNWciw1opZ"
      },
      "execution_count": 1,
      "outputs": []
    },
    {
      "cell_type": "code",
      "execution_count": 2,
      "metadata": {
        "id": "P6BkypM6eMol"
      },
      "outputs": [],
      "source": [
        "# Gerando dados de exemplo\n",
        "np.random.seed(42)\n",
        "X = 2 * np.random.rand(100, 1)\n",
        "y = 4 + 3 * X + np.random.randn(100, 1)\n",
        "\n",
        "# Dividindo os dados em conjunto de treinamento e teste\n",
        "X_train, X_test, y_train, y_test = train_test_split(X, y, test_size=0.2, random_state=42)"
      ]
    },
    {
      "cell_type": "code",
      "execution_count": 3,
      "metadata": {
        "id": "iqshVY9Nc5vs"
      },
      "outputs": [],
      "source": [
        "# Criando e treinando o modelo de regressão linear\n",
        "model = LinearRegression()\n",
        "model.fit(X_train, y_train)\n",
        "\n",
        "# Fazendo previsões no conjunto de teste\n",
        "y_pred = model.predict(X_test)"
      ]
    },
    {
      "cell_type": "code",
      "execution_count": 4,
      "metadata": {
        "id": "D-tLnl_2c7s5",
        "colab": {
          "base_uri": "https://localhost:8080/",
          "height": 472
        },
        "outputId": "2349cd17-a23d-4dc8-cca4-7540105b115d"
      },
      "outputs": [
        {
          "output_type": "display_data",
          "data": {
            "text/plain": [
              "<Figure size 640x480 with 1 Axes>"
            ],
            "image/png": "[encoded data removed]"
          },
          "metadata": {}
        }
      ],
      "source": [
        "# Visualizando os resultados\n",
        "plt.scatter(X_test, y_test, color='black')\n",
        "plt.plot(X_test, y_pred, color='blue', linewidth=3)\n",
        "plt.title('Regressão Linear - Exemplo')\n",
        "plt.xlabel('Variável Independente')\n",
        "plt.ylabel('Variável Dependente')\n",
        "plt.show()"
      ]
    }
  ],
  "metadata": {
    "colab": {
      "provenance": [],
      "authorship_tag": "ABX9TyPHP13ETGUNlgzLj4wNM+B7",
      "include_colab_link": true
    },
    "kernelspec": {
      "display_name": "Python 3",
      "name": "python3"
    },
    "language_info": {
      "name": "python"
    }
  },
  "nbformat": 4,
  "nbformat_minor": 0
}